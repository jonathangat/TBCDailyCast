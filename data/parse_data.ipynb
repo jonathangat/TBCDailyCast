{
 "cells": [
  {
   "cell_type": "markdown",
   "id": "c37684a3",
   "metadata": {},
   "source": [
    "# Parse Data"
   ]
  },
  {
   "cell_type": "code",
   "execution_count": 11,
   "id": "04e062fe",
   "metadata": {},
   "outputs": [],
   "source": [
    "# import libraries\n",
    "import pandas as pd\n",
    "import os\n",
    "import json"
   ]
  },
  {
   "cell_type": "code",
   "execution_count": 12,
   "id": "e2286b2f",
   "metadata": {},
   "outputs": [
    {
     "data": {
      "text/html": [
       "<div>\n",
       "<style scoped>\n",
       "    .dataframe tbody tr th:only-of-type {\n",
       "        vertical-align: middle;\n",
       "    }\n",
       "\n",
       "    .dataframe tbody tr th {\n",
       "        vertical-align: top;\n",
       "    }\n",
       "\n",
       "    .dataframe thead th {\n",
       "        text-align: right;\n",
       "    }\n",
       "</style>\n",
       "<table border=\"1\" class=\"dataframe\">\n",
       "  <thead>\n",
       "    <tr style=\"text-align: right;\">\n",
       "      <th></th>\n",
       "      <th>name</th>\n",
       "      <th>character</th>\n",
       "      <th>headshot</th>\n",
       "    </tr>\n",
       "  </thead>\n",
       "  <tbody>\n",
       "    <tr>\n",
       "      <th>0</th>\n",
       "      <td>Adam Burton</td>\n",
       "      <td>Polymestor</td>\n",
       "      <td>08-Adam-Burton</td>\n",
       "    </tr>\n",
       "    <tr>\n",
       "      <th>1</th>\n",
       "      <td>Adam Khazhmuradov</td>\n",
       "      <td>Askalaphos, Neoptolemus</td>\n",
       "      <td>Adam-Khazhmuradov-BW-lo-res-scaled</td>\n",
       "    </tr>\n",
       "    <tr>\n",
       "      <th>2</th>\n",
       "      <td>Ali Goldsmith</td>\n",
       "      <td>Aegisthus, Agamemnon, Hades, Laocoön, Neoptole...</td>\n",
       "      <td>16-Ali-Goldsmith</td>\n",
       "    </tr>\n",
       "    <tr>\n",
       "      <th>3</th>\n",
       "      <td>Alison Monique Adnet</td>\n",
       "      <td>Artemis, Luba</td>\n",
       "      <td>01-Alison-Monique-Adnet</td>\n",
       "    </tr>\n",
       "    <tr>\n",
       "      <th>4</th>\n",
       "      <td>Ally Clarke</td>\n",
       "      <td>Artemis, Clytemnestra, Luba, Macaria, Orpheus,...</td>\n",
       "      <td>Ally-Clarke-BWLR-scaled</td>\n",
       "    </tr>\n",
       "    <tr>\n",
       "      <th>...</th>\n",
       "      <td>...</td>\n",
       "      <td>...</td>\n",
       "      <td>...</td>\n",
       "    </tr>\n",
       "    <tr>\n",
       "      <th>80</th>\n",
       "      <td>Vinicius Salles</td>\n",
       "      <td>Agamemnon</td>\n",
       "      <td>46-Vinicius-Salles</td>\n",
       "    </tr>\n",
       "    <tr>\n",
       "      <th>81</th>\n",
       "      <td>WenHsin Lee</td>\n",
       "      <td>Cassandra, Eurydice, Iphigenia, Macaria, Perse...</td>\n",
       "      <td>Lee-WenHsin</td>\n",
       "    </tr>\n",
       "    <tr>\n",
       "      <th>82</th>\n",
       "      <td>Will David Thompson</td>\n",
       "      <td>Neoptolemus, Zagreus</td>\n",
       "      <td>49-Will-David-Thompson</td>\n",
       "    </tr>\n",
       "    <tr>\n",
       "      <th>83</th>\n",
       "      <td>Yen-Ching Lin</td>\n",
       "      <td>Clytemnestra, Eurydice</td>\n",
       "      <td>Yen-Ching-Lin-scaled</td>\n",
       "    </tr>\n",
       "    <tr>\n",
       "      <th>84</th>\n",
       "      <td>Yilin Kong</td>\n",
       "      <td>Artemis, Cassandra, Macaria, Persephone, Polyx...</td>\n",
       "      <td>25-Yilin-Kong</td>\n",
       "    </tr>\n",
       "  </tbody>\n",
       "</table>\n",
       "<p>85 rows × 3 columns</p>\n",
       "</div>"
      ],
      "text/plain": [
       "                    name                                          character  \\\n",
       "0            Adam Burton                                         Polymestor   \n",
       "1      Adam Khazhmuradov                            Askalaphos, Neoptolemus   \n",
       "2          Ali Goldsmith  Aegisthus, Agamemnon, Hades, Laocoön, Neoptole...   \n",
       "3   Alison Monique Adnet                                      Artemis, Luba   \n",
       "4            Ally Clarke  Artemis, Clytemnestra, Luba, Macaria, Orpheus,...   \n",
       "..                   ...                                                ...   \n",
       "80       Vinicius Salles                                          Agamemnon   \n",
       "81           WenHsin Lee  Cassandra, Eurydice, Iphigenia, Macaria, Perse...   \n",
       "82   Will David Thompson                               Neoptolemus, Zagreus   \n",
       "83         Yen-Ching Lin                             Clytemnestra, Eurydice   \n",
       "84            Yilin Kong  Artemis, Cassandra, Macaria, Persephone, Polyx...   \n",
       "\n",
       "                              headshot  \n",
       "0                       08-Adam-Burton  \n",
       "1   Adam-Khazhmuradov-BW-lo-res-scaled  \n",
       "2                     16-Ali-Goldsmith  \n",
       "3              01-Alison-Monique-Adnet  \n",
       "4              Ally-Clarke-BWLR-scaled  \n",
       "..                                 ...  \n",
       "80                  46-Vinicius-Salles  \n",
       "81                         Lee-WenHsin  \n",
       "82              49-Will-David-Thompson  \n",
       "83                Yen-Ching-Lin-scaled  \n",
       "84                       25-Yilin-Kong  \n",
       "\n",
       "[85 rows x 3 columns]"
      ]
     },
     "execution_count": 12,
     "metadata": {},
     "output_type": "execute_result"
    }
   ],
   "source": [
    "# read raw data\n",
    "data = pd.read_csv('data.csv')\n",
    "\n",
    "# show df\n",
    "data"
   ]
  },
  {
   "cell_type": "code",
   "execution_count": 13,
   "id": "a120f751",
   "metadata": {},
   "outputs": [],
   "source": [
    "# create an empty cast list\n",
    "cast = []\n",
    "\n",
    "# iterate over the data frame\n",
    "for idx, row in data.iterrows():\n",
    "    # create an empty cast member object\n",
    "    cast_member = {}\n",
    "    # assign values from dataframe\n",
    "    cast_member['name'] = row[0]\n",
    "    cast_member['character'] = row.character\n",
    "    if not pd.isnull(row.headshot):\n",
    "        cast_member['headshot'] = f\"img\\headshots\\\\{row.headshot}.jpg\" # os.path.join('img','headshots',row.headshot + '.jpg')\n",
    "    \n",
    "    # append to cast list\n",
    "    cast.append(cast_member)"
   ]
  },
  {
   "cell_type": "code",
   "execution_count": 14,
   "id": "e1bd549f",
   "metadata": {},
   "outputs": [
    {
     "data": {
      "text/plain": [
       "'[{\"name\": \"Adam Burton\", \"character\": \"Polymestor\", \"headshot\": \"img\\\\\\\\headshots\\\\\\\\08-Adam-Burton.jpg\"}, {\"name\": \"Adam Khazhmuradov\", \"character\": \"Askalaphos, Neoptolemus\", \"headshot\": \"img\\\\\\\\headshots\\\\\\\\Adam-Khazhmuradov-BW-lo-res-scaled.jpg\"}, {\"name\": \"Ali Goldsmith\", \"character\": \"Aegisthus, Agamemnon, Hades, Laocoön, Neoptolemus, Peep Cabaret, Polymestor\", \"headshot\": \"img\\\\\\\\headshots\\\\\\\\16-Ali-Goldsmith.jpg\"}, {\"name\": \"Alison Monique Adnet\", \"character\": \"Artemis, Luba\", \"headshot\": \"img\\\\\\\\headshots\\\\\\\\01-Alison-Monique-Adnet.jpg\"}, {\"name\": \"Ally Clarke\", \"character\": \"Artemis, Clytemnestra, Luba, Macaria, Orpheus, The Oracle\", \"headshot\": \"img\\\\\\\\headshots\\\\\\\\Ally-Clarke-BWLR-scaled.jpg\"}, {\"name\": \"Andrea Carrucciu\", \"character\": \"Aegisthus, Askalaphos, Kampe\", \"headshot\": \"img\\\\\\\\headshots\\\\\\\\09-Andrea-Carrucciu.jpg\"}, {\"name\": \"Anna Finkel\", \"character\": \"Persephone\", \"headshot\": \"img\\\\\\\\headshots\\\\\\\\14-Anna-Finkel.jpg\"}, {\"name\": \"Becky Brass\", \"character\": \"The Furies - Cryo (Drums)\", \"headshot\": \"img\\\\\\\\headshots\\\\\\\\Becky-Brass-scaled.jpg\"}, {\"name\": \"Brenda Lee Grech\", \"character\": \"Artemis, Cassandra, Clytemnestra, Eurydice, Macaria, Polyxena, The Oracle\", \"headshot\": \"img\\\\\\\\headshots\\\\\\\\17-Brenda-Lee-Grech.jpg\"}, {\"name\": \"Cameron Bernard Jones\", \"character\": \"Orpheus, Peep Cabaret, Polymestor\", \"headshot\": \"img\\\\\\\\headshots\\\\\\\\22-Cameron-Bernard-Jones.jpg\"}, {\"name\": \"Carl Harrison\", \"character\": \"Hades, Kampe, Peep Cabaret\", \"headshot\": \"img\\\\\\\\headshots\\\\\\\\19-Carl-Harrison.jpg\"}, {\"name\": \"Carlos Franquiz\", \"character\": \"The Furies - Cryo (Drums)\"}, {\"name\": \"Chihiro Kawasaki\", \"character\": \"Eurydice, Polyxena\", \"headshot\": \"img\\\\\\\\headshots\\\\\\\\23-Chihiro-Kawasaki.jpg\"}, {\"name\": \"Cristina Gatti\", \"character\": \"Orpheus\", \"headshot\": \"img\\\\\\\\headshots\\\\\\\\IMG_6585-website.jpg\"}, {\"name\": \"Dafni Krazoudi\", \"character\": \"Iphigenia, Kampe\", \"headshot\": \"img\\\\\\\\headshots\\\\\\\\26-Dafni-Krazoudi.jpg\"}, {\"name\": \"Eléonore Cabrera\", \"character\": \"Artemis, Eurydice, Macaria, Polyxena\", \"headshot\": \"img\\\\\\\\headshots\\\\\\\\Eleonore-Cabrera-BW-scaled.jpg\"}, {\"name\": \"Emily Mytton\", \"character\": \"Hecuba\", \"headshot\": \"img\\\\\\\\headshots\\\\\\\\36-Emily-Mytton.jpg\"}, {\"name\": \"Emily Terndrup\", \"character\": \"Askalaphos, Clytemnestra\", \"headshot\": \"img\\\\\\\\headshots\\\\\\\\47-Emily-Terndrup.jpg\"}, {\"name\": \"Eric Jackson Bradley\", \"character\": \"Hades, Luba, The Oracle, The Watchman\", \"headshot\": \"img\\\\\\\\headshots\\\\\\\\20-Eric-Jackson-Bradley-edit.jpg\"}, {\"name\": \"Fania Grigoriou\", \"character\": \"Askalaphos, Clytemnestra, Hecuba, Kampe, Luba, Persephone, The Oracle\", \"headshot\": \"img\\\\\\\\headshots\\\\\\\\18-Fania-Grigoriou.jpg\"}, {\"name\": \"Ferghas Clavey\", \"character\": \"Laocoön, Polydorus, The Watchman\", \"headshot\": \"img\\\\\\\\headshots\\\\\\\\11-Ferghas-Clavey.jpg\"}, {\"name\": \"Fern Grimbley\", \"character\": \"Iphigenia, Macaria\", \"headshot\": \"img\\\\\\\\headshots\\\\\\\\Fern-Grimbley-scaled.jpg\"}, {\"name\": \"Fionn Cox-Davies\", \"character\": \"Orpheus, Patroclus, Peep Cabaret, The Oracle\", \"headshot\": \"img\\\\\\\\headshots\\\\\\\\12-Fionn-Cox-Davies.jpg\"}, {\"name\": \"Folu Odimayo\", \"character\": \"Agamemnon, Apollo, Askalaphos, Hades, Kronos, Patroclus, Peep Cabaret, Polymestor\", \"headshot\": \"img\\\\\\\\headshots\\\\\\\\41-Folu-Odimayo.jpg\"}, {\"name\": \"Fred Gehrig\", \"character\": \"Askalaphos, Kampe, Laocoön\", \"headshot\": \"img\\\\\\\\headshots\\\\\\\\15-Fred-Gehrig.jpg\"}, {\"name\": \"Georges Hann\", \"character\": \"Apollo, Laocoön, Peep Cabaret, The Oracle, Zagreus\", \"headshot\": \"img\\\\\\\\headshots\\\\\\\\Georges-Hann.jpg\"}, {\"name\": \"Georgia Ayew\", \"character\": \"The Furies - Cryo (Drums)\"}, {\"name\": \"Hannah Feenstra\", \"character\": \"The Furies - Cryo (Drums), The Furies - Furnace (Keys)\"}, {\"name\": \"Harry Price\", \"character\": \"Aegisthus, Agamemnon, Apollo, Kronos, Laocoön, Patroclus, Polymestor\", \"headshot\": \"img\\\\\\\\headshots\\\\\\\\44-Harry-Price.jpg\"}, {\"name\": \"Ingrid Kapteyn\", \"character\": \"Cassandra, The Watchman\", \"headshot\": \"img\\\\\\\\headshots\\\\\\\\IMG_7125-scaled.jpg\"}, {\"name\": \"Isaac Ouro-Gnao\", \"character\": \"Askalaphos, Peep Cabaret\", \"headshot\": \"img\\\\\\\\headshots\\\\\\\\Isaac-Ouro-Gnao1-copy.jpg\"}, {\"name\": \"Isis Dunthorne\", \"character\": \"The Furies - Cryo (Drums)\"}, {\"name\": \"Jahmarley Bachelor\", \"character\": \"Artemis, Cassandra, Iphigenia, Kampe, Luba, Polydorus, The Watchman, Zagreus\", \"headshot\": \"img\\\\\\\\headshots\\\\\\\\04-Jahmarley-Bachelor.jpg\"}, {\"name\": \"James Finnemore\", \"character\": \"Askalaphos, Kronos, Patroclus\", \"headshot\": \"img\\\\\\\\headshots\\\\\\\\James-Finnemore.jpg\"}, {\"name\": \"Jane Leaney\", \"character\": \"The Oracle\", \"headshot\": \"img\\\\\\\\headshots\\\\\\\\27-Jane-Leaney.jpg\"}, {\"name\": \"Jayla O\\'Connell\", \"character\": \"Artemis, Luba\", \"headshot\": \"img\\\\\\\\headshots\\\\\\\\Jayla-O_Connell-low-res.jpg\"}, {\"name\": \"John Clarke\", \"character\": \"The Furies - Cryo (Drums)\"}, {\"name\": \"Jonathan Savage\", \"character\": \"Agamemnon, Kronos\", \"headshot\": \"img\\\\\\\\headshots\\\\\\\\Jonathan-Savage-BW-scaled.jpg\"}, {\"name\": \"Jordan Ajadi\", \"character\": \"Askalaphos, Peep Cabaret, Polydorus\", \"headshot\": \"img\\\\\\\\headshots\\\\\\\\02-Jordan-Ajadi.jpg\"}, {\"name\": \"Juan José Tirado Pulido\", \"character\": \"Kronos, Patroclus\", \"headshot\": \"img\\\\\\\\headshots\\\\\\\\48-Juan-José-Tirado-Pulido.jpg\"}, {\"name\": \"Jude Monk McGowan\", \"character\": \"Askalaphos, Polymestor\", \"headshot\": \"img\\\\\\\\headshots\\\\\\\\Jude-Monk-McGowan-scaled.jpg\"}, {\"name\": \"Kathryn McGarr\", \"character\": \"Hecuba, Peep Cabaret, The Oracle\", \"headshot\": \"img\\\\\\\\headshots\\\\\\\\31-Kathryn-McGarr.jpg\"}, {\"name\": \"Katie Lusby\", \"character\": \"Macaria\", \"headshot\": \"img\\\\\\\\headshots\\\\\\\\KatieLusby.jpg\"}, {\"name\": \"Kimberly Nichole\", \"character\": \"Orpheus\", \"headshot\": \"img\\\\\\\\headshots\\\\\\\\37-Kimberly-Nichole.jpg\"}, {\"name\": \"Laura Williams\", \"character\": \"The Furies - Cryo (Drums)\", \"headshot\": \"img\\\\\\\\headshots\\\\\\\\Laura-Williams-BW-scaled.jpg\"}, {\"name\": \"Leal Zielińska\", \"character\": \"Artemis, Macaria\", \"headshot\": \"img\\\\\\\\headshots\\\\\\\\53-Leal-Zielinska.jpg\"}, {\"name\": \"Lily Jo Ockwell\", \"character\": \"Orpheus, Peep Cabaret, Persephone, The Oracle\", \"headshot\": \"img\\\\\\\\headshots\\\\\\\\40-Lily-Jo-Ockwell.jpg\"}, {\"name\": \"Lou Ditaranto\", \"character\": \"Iphigenia, Macaria\", \"headshot\": \"img\\\\\\\\headshots\\\\\\\\TBC-Lou-11-1-1.jpg\"}, {\"name\": \"Louis J Rhone\", \"character\": \"Kronos, Polymestor\", \"headshot\": \"img\\\\\\\\headshots\\\\\\\\Louis-J-Rhone-copy.jpg\"}, {\"name\": \"Luigi Nardone\", \"character\": \"Aegisthus, Askalaphos\", \"headshot\": \"img\\\\\\\\headshots\\\\\\\\Luigi-Nardone-scaled.jpg\"}, {\"name\": \"Luke Murphy\", \"character\": \"Neoptolemus, Zagreus\", \"headshot\": \"img\\\\\\\\headshots\\\\\\\\35-Luke-Murphy.jpg\"}, {\"name\": \"Mallory Gracenin\", \"character\": \"Eurydice, Peep Cabaret, Persephone, The Oracle\", \"headshot\": \"img\\\\\\\\headshots\\\\\\\\Mallory-Gracenin-scaled.jpg\"}, {\"name\": \"Maya Milet\", \"character\": \"Artemis, Clytemnestra, Hecuba, Kampe, Luba, Peep Cabaret, Polyxena, The Oracle\", \"headshot\": \"img\\\\\\\\headshots\\\\\\\\33-Maya-Milet.jpg\"}, {\"name\": \"Milton Lopes\", \"character\": \"Kronos, Polymestor, The Watchman, Zagreus\", \"headshot\": \"img\\\\\\\\headshots\\\\\\\\28-Milton-Lopes.jpg\"}, {\"name\": \"Miranda Mac Letten\", \"character\": \"Eurydice, Polyxena, The Watchman\", \"headshot\": \"img\\\\\\\\headshots\\\\\\\\30-Miranda-Mac-Letten-3.jpg\"}, {\"name\": \"Mitch Harvey\", \"character\": \"Agamemnon, Apollo, Kronos, Laocoön, Neoptolemus, Zagreus\", \"headshot\": \"img\\\\\\\\headshots\\\\\\\\Mitch-Harvery-scaled.jpg\"}, {\"name\": \"Morgan Bobrow-Williams\", \"character\": \"Apollo, Kronos\", \"headshot\": \"img\\\\\\\\headshots\\\\\\\\06-Morgan-Bobrow-Williams.jpg\"}, {\"name\": \"Naomi Banks\", \"character\": \"Orpheus\", \"headshot\": \"img\\\\\\\\headshots\\\\\\\\Naomi-Banks-BW.jpg\"}, {\"name\": \"Natalie Allen\", \"character\": \"Clytemnestra\", \"headshot\": \"img\\\\\\\\headshots\\\\\\\\IMG_6595-website.jpg\"}, {\"name\": \"Nathan Kiley\", \"character\": \"Orpheus, The Oracle\", \"headshot\": \"img\\\\\\\\headshots\\\\\\\\24-Nathan-Kiley-edit.jpg\"}, {\"name\": \"Nicholas Bruder\", \"character\": \"Orpheus, Peep Cabaret, Polymestor\", \"headshot\": \"img\\\\\\\\headshots\\\\\\\\Nicholas-Bruder-scaled.jpg\"}, {\"name\": \"Omagbitse Omagbemi\", \"character\": \"Clytemnestra, Hecuba\", \"headshot\": \"img\\\\\\\\headshots\\\\\\\\42-Omagbitse-Omagbemi.jpg\"}, {\"name\": \"Omar Gordon\", \"character\": \"Agamemnon, Kampe, Laocoön, Luba\", \"headshot\": \"img\\\\\\\\headshots\\\\\\\\Omar-Gordon-scaled.jpg\"}, {\"name\": \"Paul Zivkovich\", \"character\": \"Aegisthus, Luba\", \"headshot\": \"img\\\\\\\\headshots\\\\\\\\54-Paul-Zivkovich.jpg\"}, {\"name\": \"Pin Chieh Chen\", \"character\": \"Cassandra, Clytemnestra, Kampe\", \"headshot\": \"img\\\\\\\\headshots\\\\\\\\10-Pin-Chieh-Chen.jpg\"}, {\"name\": \"Robert McNeill\", \"character\": \"Agamemnon, Laocoön\", \"headshot\": \"img\\\\\\\\headshots\\\\\\\\32-Robert-McNeill.jpg\"}, {\"name\": \"Robyn Herfellow\", \"character\": \"The Furies - Furnace (Keys)\"}, {\"name\": \"Rosa Ullmann\", \"character\": \"The Furies - Furnace (Keys)\"}, {\"name\": \"Ryan O\\'Neill\", \"character\": \"Aegisthus, Askalaphos, Laocoön, Neoptolemus, Patroclus, Zagreus\", \"headshot\": \"img\\\\\\\\headshots\\\\\\\\Ryan-ONeill-copy.jpg\"}, {\"name\": \"Sam Booth\", \"character\": \"Hades, Polymestor\", \"headshot\": \"img\\\\\\\\headshots\\\\\\\\07-Sam-Booth.jpg\"}, {\"name\": \"Sam Parker\", \"character\": \"The Furies - Furnace (Keys)\", \"headshot\": \"img\\\\\\\\headshots\\\\\\\\43-Samuel-Parker.jpg\"}, {\"name\": \"Sarah Dowling\", \"character\": \"Hecuba\", \"headshot\": \"img\\\\\\\\headshots\\\\\\\\13-Sarah-Dowling.jpg\"}, {\"name\": \"Seirian Griffiths\", \"character\": \"Apollo, Neoptolemus, Zagreus\", \"headshot\": \"img\\\\\\\\headshots\\\\\\\\Seirian-Griffiths-scaled.jpg\"}, {\"name\": \"Sharol Mackenzie\", \"character\": \"Artemis, Cassandra, Eurydice, Iphigenia, Macaria, Polydorus, The Watchman\", \"headshot\": \"img\\\\\\\\headshots\\\\\\\\29-Sharol-Mackenzie.jpg\"}, {\"name\": \"Stefanie Noll\", \"character\": \"Eurydice, Iphigenia\", \"headshot\": \"img\\\\\\\\headshots\\\\\\\\39-Stefanie-Noll.jpg\"}, {\"name\": \"Stephanie Nightingale\", \"character\": \"Eurydice, Luba, Macaria, Persephone\", \"headshot\": \"img\\\\\\\\headshots\\\\\\\\38-Stephanie-Nightingale-2.jpg\"}, {\"name\": \"Steven James Apicello\", \"character\": \"Aegisthus, Apollo, Kronos, Luba, Neoptolemus, Patroclus, Peep Cabaret, The Oracle\", \"headshot\": \"img\\\\\\\\headshots\\\\\\\\IMG_6726-website.jpg\"}, {\"name\": \"Theo Arran\", \"character\": \"Patroclus, Polydorus, The Watchman, Zagreus\", \"headshot\": \"img\\\\\\\\headshots\\\\\\\\Theo-Aran-BW-scaled.jpg\"}, {\"name\": \"Timothy John Bartlett\", \"character\": \"Aegisthus, Apollo, Askalaphos, Laocoön, Neoptolemus, Patroclus, Polydorus, Zagreus\", \"headshot\": \"img\\\\\\\\headshots\\\\\\\\05-Timothy-John-Bartlett.jpg\"}, {\"name\": \"Valentine Giannopoulou\", \"character\": \"Polyxena, The Oracle\", \"headshot\": \"img\\\\\\\\headshots\\\\\\\\Valentine-Giannopoulou--scaled.jpg\"}, {\"name\": \"Vinicius Salles\", \"character\": \"Agamemnon\", \"headshot\": \"img\\\\\\\\headshots\\\\\\\\46-Vinicius-Salles.jpg\"}, {\"name\": \"WenHsin Lee\", \"character\": \"Cassandra, Eurydice, Iphigenia, Macaria, Persephone, Polyxena, The Oracle, The Watchman\", \"headshot\": \"img\\\\\\\\headshots\\\\\\\\Lee-WenHsin.jpg\"}, {\"name\": \"Will David Thompson\", \"character\": \"Neoptolemus, Zagreus\", \"headshot\": \"img\\\\\\\\headshots\\\\\\\\49-Will-David-Thompson.jpg\"}, {\"name\": \"Yen-Ching Lin\", \"character\": \"Clytemnestra, Eurydice\", \"headshot\": \"img\\\\\\\\headshots\\\\\\\\Yen-Ching-Lin-scaled.jpg\"}, {\"name\": \"Yilin Kong\", \"character\": \"Artemis, Cassandra, Macaria, Persephone, Polyxena, The Watchman\", \"headshot\": \"img\\\\\\\\headshots\\\\\\\\25-Yilin-Kong.jpg\"}]'"
      ]
     },
     "execution_count": 14,
     "metadata": {},
     "output_type": "execute_result"
    }
   ],
   "source": [
    "json.dumps(cast, ensure_ascii=False)"
   ]
  }
 ],
 "metadata": {
  "kernelspec": {
   "display_name": "Python 3",
   "language": "python",
   "name": "python3"
  },
  "language_info": {
   "codemirror_mode": {
    "name": "ipython",
    "version": 3
   },
   "file_extension": ".py",
   "mimetype": "text/x-python",
   "name": "python",
   "nbconvert_exporter": "python",
   "pygments_lexer": "ipython3",
   "version": "3.7.10"
  }
 },
 "nbformat": 4,
 "nbformat_minor": 5
}
